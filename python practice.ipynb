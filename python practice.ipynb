{
 "cells": [
  {
   "cell_type": "markdown",
   "id": "bfe0e5b7-9c02-4e18-97b5-c423b339806d",
   "metadata": {},
   "source": [
    "#1.Python Program to check whether number is even or odd"
   ]
  },
  {
   "cell_type": "code",
   "execution_count": 1,
   "id": "259967c4-f143-4144-ad4b-6a71bb89326a",
   "metadata": {},
   "outputs": [
    {
     "name": "stdin",
     "output_type": "stream",
     "text": [
      "Enter a number:  5\n"
     ]
    },
    {
     "name": "stdout",
     "output_type": "stream",
     "text": [
      "5 is odd\n"
     ]
    }
   ],
   "source": [
    "number = int(input(\"Enter a number: \"))\n",
    "if number % 2 == 0:\n",
    "    print(number, \"is even\")\n",
    "else:\n",
    "    print(number, \"is odd\")"
   ]
  },
  {
   "cell_type": "markdown",
   "id": "4387f1fb-d4bc-4506-82a7-b8e4bf707eb6",
   "metadata": {},
   "source": [
    "#2.Python program to calculate the factorial of a given number using recursion."
   ]
  },
  {
   "cell_type": "code",
   "execution_count": 2,
   "id": "09d2aef3-1249-4709-97da-4e9816f8d4e5",
   "metadata": {},
   "outputs": [
    {
     "name": "stdin",
     "output_type": "stream",
     "text": [
      "Enter a number:  6\n"
     ]
    },
    {
     "name": "stdout",
     "output_type": "stream",
     "text": [
      "The factorial of 6 is 720\n"
     ]
    }
   ],
   "source": [
    "def factorial(n):\n",
    "  if n == 0:\n",
    "    return 1\n",
    "  else:\n",
    "    return n * factorial(n - 1)\n",
    "number = int(input(\"Enter a number: \"))\n",
    "result = factorial(number)\n",
    "print(\"The factorial of\", number, \"is\", result)"
   ]
  },
  {
   "cell_type": "markdown",
   "id": "e846c121-2c4f-4324-87f5-59bc9a41e454",
   "metadata": {},
   "source": [
    "#3.Python program to find the greatest common divisor (GCD) of two numbers"
   ]
  },
  {
   "cell_type": "code",
   "execution_count": 22,
   "id": "f43052d3-2ba8-46c8-a095-4b0bc44c26f9",
   "metadata": {},
   "outputs": [
    {
     "name": "stdin",
     "output_type": "stream",
     "text": [
      " 20\n",
      " 15\n"
     ]
    },
    {
     "name": "stdout",
     "output_type": "stream",
     "text": [
      "The GCD of 20 and 15 is 5\n"
     ]
    }
   ],
   "source": [
    "def gcd(a, b):\n",
    "  while b != 0:\n",
    "    a, b = b, a % b\n",
    "  return a\n",
    "num1 = int(input())\n",
    "num2 =int(input())\n",
    "result = gcd(num1, num2)\n",
    "print(\"The GCD of\", num1, \"and\", num2, \"is\", result)"
   ]
  },
  {
   "cell_type": "markdown",
   "id": "2332bbe8-972f-40b7-b7ea-91ee696c9891",
   "metadata": {},
   "source": [
    "#4.Python program to reverse a string without using slicing."
   ]
  },
  {
   "cell_type": "code",
   "execution_count": 30,
   "id": "fefef289-41e5-4395-8109-065b56873320",
   "metadata": {},
   "outputs": [
    {
     "name": "stdin",
     "output_type": "stream",
     "text": [
      " hello\n"
     ]
    },
    {
     "name": "stdout",
     "output_type": "stream",
     "text": [
      "Reversed string: olleh\n"
     ]
    }
   ],
   "source": [
    "def reverse_string(string):\n",
    "  revstring = \"\"\n",
    "  for char in string:\n",
    "    revstring = char + revstring\n",
    "  return revstring\n",
    "string = input()\n",
    "revstring = reverse_string(string)\n",
    "print(\"Reversed string:\", reversed_string)"
   ]
  },
  {
   "cell_type": "markdown",
   "id": "2adbefef-9362-4360-aaa1-dae6f68b9f9b",
   "metadata": {},
   "source": [
    "#5.Python program to count the frequency of each character in a string."
   ]
  },
  {
   "cell_type": "code",
   "execution_count": 40,
   "id": "69c9e5c9-f19b-4440-bdb5-ec04c151e73f",
   "metadata": {},
   "outputs": [
    {
     "name": "stdin",
     "output_type": "stream",
     "text": [
      " hello\n"
     ]
    },
    {
     "name": "stdout",
     "output_type": "stream",
     "text": [
      "Letter counts:\n",
      "h: 1\n",
      "e: 1\n",
      "l: 2\n",
      "o: 1\n"
     ]
    }
   ],
   "source": [
    "def count_letters(text):\n",
    "  letter_count = {}\n",
    "  for letter in text:\n",
    "    if letter in letter_count:\n",
    "      letter_count[letter] += 1\n",
    "    else:\n",
    "      letter_count[letter] = 1\n",
    "  return letter_count\n",
    "\n",
    "# Example usage:\n",
    "text = input()\n",
    "letter_counts = count_letters(text)\n",
    "print(\"Letter counts:\")\n",
    "for letter, count in letter_counts.items():\n",
    "  print(f\"{letter}: {count}\")"
   ]
  },
  {
   "cell_type": "markdown",
   "id": "43ec0ad2-026d-4437-a724-fcbd5e5094ef",
   "metadata": {},
   "source": [
    "#6.Python program to check if a given string is a palindrome."
   ]
  },
  {
   "cell_type": "code",
   "execution_count": 6,
   "id": "0b4a5f33-6900-42e0-9891-d7af25d75cde",
   "metadata": {},
   "outputs": [
    {
     "name": "stdin",
     "output_type": "stream",
     "text": [
      " ede\n"
     ]
    },
    {
     "name": "stdout",
     "output_type": "stream",
     "text": [
      "The string is a palindrome.\n"
     ]
    }
   ],
   "source": [
    "string = input()\n",
    "if string==string[::-1]:\n",
    "  print(\"The string is a palindrome.\")\n",
    "else:\n",
    "  print(\"The string is not a palindrome.\")"
   ]
  },
  {
   "cell_type": "markdown",
   "id": "4234b746-a258-4555-ac0e-74406629a36f",
   "metadata": {},
   "source": [
    "#7.Python program to replace all occurrences of a substring in a string."
   ]
  },
  {
   "cell_type": "code",
   "execution_count": 2,
   "id": "28f0be3f-da3e-4644-928d-7c02c71311d3",
   "metadata": {},
   "outputs": [
    {
     "name": "stdin",
     "output_type": "stream",
     "text": [
      " myself madhulika\n",
      " myself\n",
      " i'm\n"
     ]
    },
    {
     "name": "stdout",
     "output_type": "stream",
     "text": [
      "i'm madhulika\n"
     ]
    }
   ],
   "source": [
    "def replace_word(text, old_word, new_word):\n",
    "  while old_word in text:\n",
    "    text = text.replace(old_word, new_word, 1)\n",
    "  return text\n",
    "\n",
    "# Example:\n",
    "text = input()\n",
    "old_word = input()\n",
    "new_word = input()\n",
    "new_text = replace_word(text, old_word, new_word)\n",
    "print(new_text)"
   ]
  },
  {
   "cell_type": "markdown",
   "id": "d8290ac9-97b3-45d6-87d7-f4b7d1659efb",
   "metadata": {},
   "source": [
    "#8.Python program to find all substrings of a given string."
   ]
  },
  {
   "cell_type": "code",
   "execution_count": 4,
   "id": "8f3c2f13-6d1d-4358-b8ef-16e937d10af1",
   "metadata": {},
   "outputs": [
    {
     "name": "stdin",
     "output_type": "stream",
     "text": [
      " patel\n"
     ]
    },
    {
     "name": "stdout",
     "output_type": "stream",
     "text": [
      "['p', 'pa', 'pat', 'pate', 'patel', 'a', 'at', 'ate', 'atel', 't', 'te', 'tel', 'e', 'el', 'l']\n"
     ]
    }
   ],
   "source": [
    "def substrings(text):\n",
    "  substring = []\n",
    "  for i in range(len(text)):\n",
    "    for j in range(i + 1, len(text) + 1):\n",
    "      subString = text[i:j]\n",
    "      substring.append(subString)\n",
    "  return substrings\n",
    "    \n",
    "\n",
    "# Example:\n",
    "text = input()\n",
    "substrings = find_substrings(text)\n",
    "print(substrings)"
   ]
  },
  {
   "cell_type": "markdown",
   "id": "a8dd655f-7121-41eb-b4d6-862ba9ad6688",
   "metadata": {},
   "source": [
    "#9.Python program to round a float to 2 decimal places"
   ]
  },
  {
   "cell_type": "code",
   "execution_count": 2,
   "id": "2a334fe8-c35e-41dc-9de4-b22c64a8d3b9",
   "metadata": {},
   "outputs": [
    {
     "name": "stdin",
     "output_type": "stream",
     "text": [
      " 3.2489582\n"
     ]
    },
    {
     "name": "stdout",
     "output_type": "stream",
     "text": [
      "3.25\n"
     ]
    }
   ],
   "source": [
    "number = float(input())\n",
    "rounded_number = round(number, 2)\n",
    "print(rounded_number)  # Output: 3.14"
   ]
  },
  {
   "cell_type": "markdown",
   "id": "e67de96e-bfc9-4e57-8ded-492dca0fcbb2",
   "metadata": {},
   "source": [
    "#10. Python program to convert a float number to a string and vice versa"
   ]
  },
  {
   "cell_type": "code",
   "execution_count": 4,
   "id": "ccbf4207-2e2e-4d9f-aad7-a98c4aa8c868",
   "metadata": {},
   "outputs": [
    {
     "name": "stdin",
     "output_type": "stream",
     "text": [
      " 2.12\n"
     ]
    },
    {
     "name": "stdout",
     "output_type": "stream",
     "text": [
      "2.12\n"
     ]
    },
    {
     "name": "stdin",
     "output_type": "stream",
     "text": [
      " 3.12\n"
     ]
    },
    {
     "name": "stdout",
     "output_type": "stream",
     "text": [
      "3.12\n"
     ]
    }
   ],
   "source": [
    "floatnum = float(input())\n",
    "string_num = str(floatnum)\n",
    "print(string_num)\n",
    "string_num = input()\n",
    "floatnum = float(string_num)\n",
    "print(floatnum)  "
   ]
  },
  {
   "cell_type": "markdown",
   "id": "dd60aa5d-918b-44ea-a8a0-120b0aadb653",
   "metadata": {},
   "source": [
    "#11.Python program to perform basic arithmetic operations (addition, subtraction, multiplication, division) on floating-point numbers."
   ]
  },
  {
   "cell_type": "code",
   "execution_count": 5,
   "id": "7119ee49-7547-4787-b756-3cd0f369fab4",
   "metadata": {},
   "outputs": [
    {
     "name": "stdin",
     "output_type": "stream",
     "text": [
      " 25\n",
      " 15\n"
     ]
    },
    {
     "name": "stdout",
     "output_type": "stream",
     "text": [
      "Addition: 40\n",
      "Subtraction: 10\n",
      "Multiplication: 375\n",
      "Division: 1.6666666666666667\n"
     ]
    }
   ],
   "source": [
    "num1 = int(input())\n",
    "num2 = int(input())\n",
    "addition = num1 + num2\n",
    "subtraction = num1 - num2\n",
    "multiplication = num1 * num2\n",
    "division = num1 / num2\n",
    "print(\"Addition:\", addition)\n",
    "print(\"Subtraction:\", subtraction)\n",
    "print(\"Multiplication:\", multiplication)\n",
    "print(\"Division:\", division)"
   ]
  },
  {
   "cell_type": "markdown",
   "id": "6c456e2b-00df-498f-ad7b-3c29d5358101",
   "metadata": {},
   "source": [
    "#12.Python program to add two complex numbers."
   ]
  },
  {
   "cell_type": "code",
   "execution_count": 1,
   "id": "7f9593e9-7756-4821-90b5-b64a9b2630fa",
   "metadata": {},
   "outputs": [
    {
     "name": "stdin",
     "output_type": "stream",
     "text": [
      " 5\n",
      " 4j\n"
     ]
    },
    {
     "name": "stdout",
     "output_type": "stream",
     "text": [
      "(5+4j)\n"
     ]
    }
   ],
   "source": [
    "c1=complex(input())\n",
    "c2=complex(input())  \n",
    "complex=c1+c2\n",
    "print(complex)"
   ]
  },
  {
   "cell_type": "markdown",
   "id": "f4245ab6-6e76-4e35-bfbf-32961d658f65",
   "metadata": {},
   "source": [
    "#13.Python program to find the magnitude of a complex number."
   ]
  },
  {
   "cell_type": "code",
   "execution_count": 7,
   "id": "488db3ac-d324-4e18-84cb-2a992bb49941",
   "metadata": {},
   "outputs": [
    {
     "name": "stdin",
     "output_type": "stream",
     "text": [
      "enter values 4+4j\n"
     ]
    },
    {
     "name": "stdout",
     "output_type": "stream",
     "text": [
      "5.656854249492381\n"
     ]
    }
   ],
   "source": [
    "c3=complex(input(\"enter values\"))\n",
    "magnitude=abs(c3)\n",
    "print(magnitude)"
   ]
  },
  {
   "cell_type": "markdown",
   "id": "aea05417-9fed-48eb-a956-aeef2f785db2",
   "metadata": {},
   "source": [
    "#14.Python program to convert a complex number to its polar coordinates."
   ]
  },
  {
   "cell_type": "code",
   "execution_count": 15,
   "id": "2703c039-59cc-4291-b5ca-0c905daf1234",
   "metadata": {},
   "outputs": [
    {
     "name": "stdout",
     "output_type": "stream",
     "text": [
      "(7.211102550927978, 0.982793723247329)\n"
     ]
    }
   ],
   "source": [
    "import cmath\n",
    "def complextopolar(c):\n",
    "    return cmath.polar(c)\n",
    "print(complextopolar(4+ 6j))"
   ]
  },
  {
   "cell_type": "markdown",
   "id": "89f0aff6-d3e5-4d8e-b127-c95bd8023241",
   "metadata": {},
   "source": [
    "#15. Write a program to multiply two complex numbers."
   ]
  },
  {
   "cell_type": "code",
   "execution_count": 16,
   "id": "e41a33e7-63f6-440e-a9c4-e31cf5d38769",
   "metadata": {},
   "outputs": [
    {
     "name": "stdin",
     "output_type": "stream",
     "text": [
      " 3+4j\n",
      " 2+4j\n"
     ]
    },
    {
     "name": "stdout",
     "output_type": "stream",
     "text": [
      "(-10+20j)\n"
     ]
    }
   ],
   "source": [
    "c4=complex(input())\n",
    "c5=complex(input())  \n",
    "complex=c4*c5\n",
    "print(complex)"
   ]
  },
  {
   "cell_type": "markdown",
   "id": "da7d030a-0751-48ae-b7b8-8b8fef9a8c20",
   "metadata": {},
   "source": [
    "#16.Python program to find the sum of all elements in a list."
   ]
  },
  {
   "cell_type": "code",
   "execution_count": 19,
   "id": "c18e3595-736a-4973-860a-483815fc75f0",
   "metadata": {},
   "outputs": [
    {
     "name": "stdout",
     "output_type": "stream",
     "text": [
      "23\n"
     ]
    }
   ],
   "source": [
    "list=[3,6,2,6,6]\n",
    "totalsum=sum(list)\n",
    "print(totalsum)"
   ]
  },
  {
   "cell_type": "markdown",
   "id": "c10995e7-fe82-4dc4-8411-9cf49f582694",
   "metadata": {},
   "source": [
    "#17.Python program to remove duplicates from a list."
   ]
  },
  {
   "cell_type": "code",
   "execution_count": 23,
   "id": "0a8747b8-0cfd-411b-8e6c-77fd7bd7fe93",
   "metadata": {},
   "outputs": [
    {
     "name": "stdout",
     "output_type": "stream",
     "text": [
      "[2, 4, 3, 2, 6, 4, 7, 8, 1] {1, 2, 3, 4, 6, 7, 8}\n"
     ]
    }
   ],
   "source": [
    "l1=[2,4,3,2,6,4,7,8,1]\n",
    "l2=set(l1)\n",
    "print(l1,l2)"
   ]
  },
  {
   "cell_type": "markdown",
   "id": "fba98770-d581-4563-a730-f277d43dcb50",
   "metadata": {},
   "source": [
    "#18.Python program to sort a list in ascending order without using the built-in sorted() function."
   ]
  },
  {
   "cell_type": "code",
   "execution_count": 25,
   "id": "ba65954c-6ee0-4f54-9f43-0d9c6d94a408",
   "metadata": {},
   "outputs": [
    {
     "name": "stdout",
     "output_type": "stream",
     "text": [
      "[2, 4, 4, 5, 8]\n"
     ]
    }
   ],
   "source": [
    "def sortlist(list1):\n",
    "    for i in range(len(list1)):\n",
    "        for j in range(i + 1, len(list1)):\n",
    "            if list1[i] > list1[j]:\n",
    "                list1[i], list1[j] = list1[j], list1[i]\n",
    "    return list1\n",
    "print(sortlist([8,2,4,5,4]))"
   ]
  },
  {
   "cell_type": "markdown",
   "id": "57d7c02f-7459-4530-86ca-46ac747de71f",
   "metadata": {},
   "source": [
    "#19.Python program to merge two lists and remove duplicates."
   ]
  },
  {
   "cell_type": "code",
   "execution_count": 31,
   "id": "18e5f9ce-cb70-414b-b387-9c38c7dbf9ec",
   "metadata": {},
   "outputs": [
    {
     "name": "stdout",
     "output_type": "stream",
     "text": [
      "{1, 2, 3, 4, 5, 6, 7, 8, 11, 31}\n"
     ]
    }
   ],
   "source": [
    "l1=[2,4,3,2,6,4,7,8,1]\n",
    "l2=[11,5,31,11,5]\n",
    "l1.extend(l2)\n",
    "l3=set(l1)\n",
    "print(l3)"
   ]
  },
  {
   "cell_type": "markdown",
   "id": "51f52de3-6ea5-442e-aa0d-e7c61a5a7c02",
   "metadata": {},
   "source": [
    "#20.Python program to find the second largest element in a list."
   ]
  },
  {
   "cell_type": "code",
   "execution_count": 3,
   "id": "5fefc2a8-171c-479a-99ed-05d68a2304c0",
   "metadata": {},
   "outputs": [
    {
     "name": "stdout",
     "output_type": "stream",
     "text": [
      "3\n"
     ]
    }
   ],
   "source": [
    "def secondlarge(lst):\n",
    "    unique = list(set(lst))  # Remove duplicates\n",
    "    unique.sort()\n",
    "    return unique[-2]\n",
    "\n",
    "print(secondlarge([1, 2, 3, 4,2, 4]))"
   ]
  },
  {
   "cell_type": "markdown",
   "id": "bfad3fdf-6276-4e3c-bab1-79efab7c26fa",
   "metadata": {},
   "source": [
    "#21.Python program to find the index of an element in a tuple."
   ]
  },
  {
   "cell_type": "code",
   "execution_count": 12,
   "id": "bf7d1b19-6665-4d7b-be7b-2ce1a80479ae",
   "metadata": {},
   "outputs": [
    {
     "name": "stdout",
     "output_type": "stream",
     "text": [
      "2\n"
     ]
    }
   ],
   "source": [
    "def indexT(tup, ele):\n",
    "    return tup.index(ele)\n",
    "print(indexT((1, 2, 3, 4), 3))"
   ]
  },
  {
   "cell_type": "markdown",
   "id": "6b3d4807-5b62-4727-a3b8-f85b0dfd6c09",
   "metadata": {},
   "source": [
    "#22.Python program To Convert a tuple into a list and list into a tuple."
   ]
  },
  {
   "cell_type": "code",
   "execution_count": 15,
   "id": "a77007d0-f2a9-419f-b02c-7e8ed04bea95",
   "metadata": {},
   "outputs": [
    {
     "name": "stdout",
     "output_type": "stream",
     "text": [
      "<class 'list'>\n",
      "[1, 2, 3, 4, 5]\n",
      "<class 'tuple'>\n",
      "(1, 2, 3, 4, 5)\n"
     ]
    }
   ],
   "source": [
    "t=(1,2,3,4,5)\n",
    "lst=list(t)\n",
    "print(type(lst))\n",
    "print(lst)\n",
    "t=tuple(lst)\n",
    "print(type(t))\n",
    "print(t)"
   ]
  },
  {
   "cell_type": "markdown",
   "id": "77d22051-aea9-4745-a00b-6331d1986d6c",
   "metadata": {},
   "source": [
    "#23.Python program to check if a given element is present in a tuple."
   ]
  },
  {
   "cell_type": "code",
   "execution_count": 16,
   "id": "23b9e9bd-b44e-4c13-9db0-6e1e012ca787",
   "metadata": {},
   "outputs": [
    {
     "name": "stdin",
     "output_type": "stream",
     "text": [
      "enter value 3\n"
     ]
    },
    {
     "name": "stdout",
     "output_type": "stream",
     "text": [
      "element present.\n"
     ]
    }
   ],
   "source": [
    "tuple=(3, 2, 6, 9, 1)\n",
    "value=int(input(\"enter value\"))\n",
    "if value in tuple:\n",
    "   print(\"element present.\")\n",
    "else:\n",
    "   print(\"can't find element\")"
   ]
  },
  {
   "cell_type": "markdown",
   "id": "c579db92-0e41-49fb-939b-8a1288ea319f",
   "metadata": {},
   "source": [
    "#24.Python program to count the occurrences of an element in a tuple."
   ]
  },
  {
   "cell_type": "code",
   "execution_count": 18,
   "id": "80b6a56e-68c2-4daa-b47a-5460ff6a206f",
   "metadata": {},
   "outputs": [
    {
     "name": "stdin",
     "output_type": "stream",
     "text": [
      "enter vlaue 7\n"
     ]
    },
    {
     "name": "stdout",
     "output_type": "stream",
     "text": [
      "2\n"
     ]
    }
   ],
   "source": [
    "value=int(input(\"enter vlaue\"))\n",
    "tuple1=(3,56,7,8,4,1,3,4,3,7)\n",
    "occurrence=tuple1.count(value)\n",
    "print(occurrence)"
   ]
  },
  {
   "cell_type": "markdown",
   "id": "187be16b-c641-4d5d-84c8-29cfe0350937",
   "metadata": {},
   "source": [
    "#25.Python program to concatenate multiple tuples."
   ]
  },
  {
   "cell_type": "code",
   "execution_count": 20,
   "id": "22fb492d-fed8-4a6f-81a2-c06bbbbd5dba",
   "metadata": {},
   "outputs": [
    {
     "name": "stdout",
     "output_type": "stream",
     "text": [
      "(4, 2, 5, 3, 9, 7, 8, 21, 2, 1, 4, [5, 9, 1])\n"
     ]
    }
   ],
   "source": [
    "t1=(4, 2,5,3,9)\n",
    "t2=(7,8,21,2)\n",
    "t3=(1,4,[5,9,1])\n",
    "con=t1+t2+t3\n",
    "print(con)"
   ]
  },
  {
   "cell_type": "markdown",
   "id": "b1deab3c-cd3b-49fa-93a0-81ed13bac17b",
   "metadata": {},
   "source": [
    "#26.Python program to find the union and intersection of two sets."
   ]
  },
  {
   "cell_type": "code",
   "execution_count": 21,
   "id": "60dfa4d5-caa2-4676-8566-d69d1b2c55b4",
   "metadata": {},
   "outputs": [
    {
     "name": "stdout",
     "output_type": "stream",
     "text": [
      "({2, 3, 4, 5, 6, 7, 9}, {3})\n"
     ]
    }
   ],
   "source": [
    "def unioninter(set1, set2):\n",
    "    return set1.union(set2), set1.intersection(set2)\n",
    "print(unioninter({7,3,9,2}, {3, 6, 4, 5}))"
   ]
  },
  {
   "cell_type": "markdown",
   "id": "19bfef9d-bcf4-44ec-81f2-ebb3a517836b",
   "metadata": {},
   "source": [
    "#27.Python program to check if a set is a subset of another set."
   ]
  },
  {
   "cell_type": "code",
   "execution_count": 22,
   "id": "c291a645-7cfb-406a-be5e-afe67cbb9994",
   "metadata": {},
   "outputs": [
    {
     "name": "stdout",
     "output_type": "stream",
     "text": [
      "False\n"
     ]
    }
   ],
   "source": [
    "def is_subset(set1, set2):\n",
    "    return set1.issubset(set2)\n",
    "\n",
    "\n",
    "print(is_subset({7,3,9,2}, {3, 6, 4, 5}))"
   ]
  },
  {
   "cell_type": "markdown",
   "id": "abe2a680-ba0b-4817-a401-dce945007462",
   "metadata": {},
   "source": [
    "#28.Python program to remove an element from a set if it exists."
   ]
  },
  {
   "cell_type": "code",
   "execution_count": 23,
   "id": "08657e93-4b84-49e8-b312-066b6a86908c",
   "metadata": {},
   "outputs": [
    {
     "name": "stdout",
     "output_type": "stream",
     "text": [
      "{1, 2, 4, 5}\n"
     ]
    }
   ],
   "source": [
    "def remoele(myset, element):\n",
    "  if element in myset:\n",
    "    myset.remove(element)\n",
    "\n",
    "myset = {1, 2, 3, 4, 5}\n",
    "eleremove = 3\n",
    "remoele(myset, eleremove)\n",
    "print(myset)"
   ]
  },
  {
   "cell_type": "markdown",
   "id": "10f4d7c5-36f1-4801-83b5-3ca8be86db7b",
   "metadata": {},
   "source": [
    "#29.Python program to find the difference between two sets."
   ]
  },
  {
   "cell_type": "code",
   "execution_count": 24,
   "id": "04b19b56-2bb2-442b-aa38-51d8b3f30425",
   "metadata": {},
   "outputs": [
    {
     "name": "stdout",
     "output_type": "stream",
     "text": [
      "{9, 2, 7}\n"
     ]
    }
   ],
   "source": [
    "def setdiff(set1, set2):\n",
    "    return set1.difference(set2)\n",
    "\n",
    "print(setdiff({7,3,9,2}, {3, 6, 4, 5}))"
   ]
  },
  {
   "cell_type": "markdown",
   "id": "ddfcbd5d-d7e1-4f75-bec3-741ebffbc6cd",
   "metadata": {},
   "source": [
    "#30.Python program to create a set from a list, removing duplicates."
   ]
  },
  {
   "cell_type": "code",
   "execution_count": 25,
   "id": "ee7b4b40-2854-43e3-9355-fd9c54033cd1",
   "metadata": {},
   "outputs": [
    {
     "name": "stdout",
     "output_type": "stream",
     "text": [
      "{1, 2, 3, 4}\n"
     ]
    }
   ],
   "source": [
    "def list_to_set(lst):\n",
    "    return set(lst)\n",
    "print(list_to_set([1, 2, 2, 3, 4, 4]))"
   ]
  },
  {
   "cell_type": "markdown",
   "id": "e20324ba-2bcf-4d10-a59c-f612e0a1f19a",
   "metadata": {},
   "source": [
    "#31.Python program to find the sum of all values in a dictionary."
   ]
  },
  {
   "cell_type": "code",
   "execution_count": 28,
   "id": "dc63cf75-d24f-42cf-a710-b75422cbdd49",
   "metadata": {},
   "outputs": [
    {
     "name": "stdout",
     "output_type": "stream",
     "text": [
      "22\n"
     ]
    }
   ],
   "source": [
    "def sumdict(d):\n",
    "    return sum(d.values())\n",
    "print(sumdict({'p':3,'a':4,'t':6,'e':1,'l':8}))"
   ]
  },
  {
   "cell_type": "markdown",
   "id": "949431a7-0d21-42db-bdb8-ad43eee12553",
   "metadata": {},
   "source": [
    "#32.Python program to sort a dictionary by its keys."
   ]
  },
  {
   "cell_type": "code",
   "execution_count": 31,
   "id": "2d3f6f28-313b-40b6-8ecc-79419f4354c3",
   "metadata": {},
   "outputs": [
    {
     "name": "stdout",
     "output_type": "stream",
     "text": [
      "{'a': 4, 'e': 1, 'l': 8, 'p': 3, 't': 6}\n"
     ]
    }
   ],
   "source": [
    "def sortdict(dict1):\n",
    "    return dict(sorted(dict1.items()))\n",
    "print(sortdict({'p':3,'a':4,'t':6,'e':1,'l':8}))"
   ]
  },
  {
   "cell_type": "markdown",
   "id": "8e7f3a54-0cc2-4a4b-9638-a3f9888bd349",
   "metadata": {},
   "source": [
    "#33.Python program to merge two dictionaries into one."
   ]
  },
  {
   "cell_type": "code",
   "execution_count": 33,
   "id": "21a83643-60ed-4134-b0b6-d8096ae793c1",
   "metadata": {},
   "outputs": [
    {
     "name": "stdout",
     "output_type": "stream",
     "text": [
      "{'p': 3, 'a': 4, 't': 6, 'e': 1, 'l': 8, 's': 6}\n"
     ]
    }
   ],
   "source": [
    "def mergedict(d1, d2):\n",
    "    d1.update(d2)\n",
    "    return d1\n",
    "print(mergedict({'p':3,'a':4,'t':6},{'e':1,'l':8,'s':6}))"
   ]
  },
  {
   "cell_type": "markdown",
   "id": "51b4f78d-dbed-498f-8b20-1c95c23468ef",
   "metadata": {},
   "source": [
    "#34.Python program to get all the keys from a dictionary."
   ]
  },
  {
   "cell_type": "code",
   "execution_count": 34,
   "id": "1f2bda2c-fa9b-4a3d-8d9b-4a4d9dd3360d",
   "metadata": {},
   "outputs": [
    {
     "data": {
      "text/plain": [
       "dict_keys(['p', 'a', 't', 'e', 'l'])"
      ]
     },
     "execution_count": 34,
     "metadata": {},
     "output_type": "execute_result"
    }
   ],
   "source": [
    "dict1={'p':3,'a':4,'t':6,'e':1,'l':8}\n",
    "dict1.keys()"
   ]
  },
  {
   "cell_type": "markdown",
   "id": "df65bfb3-759b-443d-ad42-a1fd1416a09a",
   "metadata": {},
   "source": [
    "#35.Python program to invert a dictionary (swap keys and values)."
   ]
  },
  {
   "cell_type": "code",
   "execution_count": 52,
   "id": "8c9bc8cd-9234-498c-a668-cbfec38cc008",
   "metadata": {
    "scrolled": true
   },
   "outputs": [
    {
     "name": "stdout",
     "output_type": "stream",
     "text": [
      "{3: 'p', 4: 'a', 6: 't', 1: 'e', 8: 'l'}\n"
     ]
    }
   ],
   "source": [
    "def invertdict(dictionary):\n",
    "  inverted_dict = {}\n",
    "  for key, value in dictionary.items():\n",
    "    inverted_dict[value] = key\n",
    "  return inverted_dict  \n",
    "\n",
    "dict11 = {'p':3,'a':4,'t':6,'e':1,'l':8}\n",
    "inverted_dict = invertdict(dict11)\n",
    "print(inverted_dict)"
   ]
  },
  {
   "cell_type": "markdown",
   "id": "127480f7-d938-43b8-ba3e-9760793c471b",
   "metadata": {},
   "source": [
    "1.Python Program to Check if a Number is Positive, Negative or 0..........\n",
    "2.Python Program to Display the multiplication Table"
   ]
  },
  {
   "cell_type": "code",
   "execution_count": 38,
   "id": "a558f060-8958-404a-8284-982a0f0cc629",
   "metadata": {},
   "outputs": [
    {
     "name": "stdin",
     "output_type": "stream",
     "text": [
      " 23\n"
     ]
    },
    {
     "name": "stdout",
     "output_type": "stream",
     "text": [
      "num is positive\n"
     ]
    }
   ],
   "source": [
    "#1 answer\n",
    "num=int(input())\n",
    "if num>0:\n",
    "    print(\"num is positive\")\n",
    "elif x==0:\n",
    "    print(\"number is 0\")\n",
    "else:\n",
    "    print(\"num is negative\")"
   ]
  },
  {
   "cell_type": "code",
   "execution_count": 51,
   "id": "e7b28283-255e-4055-a5d0-69981178635b",
   "metadata": {},
   "outputs": [
    {
     "name": "stdin",
     "output_type": "stream",
     "text": [
      " 5\n"
     ]
    },
    {
     "name": "stdout",
     "output_type": "stream",
     "text": [
      "  5  *  1 = 5\n",
      "  5  *  2 = 10\n",
      "  5  *  3 = 15\n",
      "  5  *  4 = 20\n",
      "  5  *  5 = 25\n",
      "  5  *  6 = 30\n",
      "  5  *  7 = 35\n",
      "  5  *  8 = 40\n",
      "  5  *  9 = 45\n",
      "  5  *  10 = 50\n"
     ]
    }
   ],
   "source": [
    "#2 answer\n",
    "num=int(input())\n",
    "for i in range(1,11):\n",
    "    print(\" \",(num),\" * \",(i),\"=\",(num*i))"
   ]
  },
  {
   "cell_type": "raw",
   "id": "555476bd-0c70-4119-adff-af7ef216c7bf",
   "metadata": {},
   "source": [
    "#3.Access value 20 from the following tuple\n",
    "aTuple=(\"orange\",[10,20,30],(5,15,25))"
   ]
  },
  {
   "cell_type": "code",
   "execution_count": 45,
   "id": "033d709c-fc04-4007-b51b-c12c49c26a74",
   "metadata": {},
   "outputs": [
    {
     "name": "stdout",
     "output_type": "stream",
     "text": [
      "20\n"
     ]
    }
   ],
   "source": [
    "aTuple=(\"orange\",[10,20,30],(5,15,25))\n",
    "val=aTuple[1][1]\n",
    "print(val)"
   ]
  },
  {
   "cell_type": "raw",
   "id": "57f500e7-aaf1-43be-b123-02941861ae45",
   "metadata": {},
   "source": [
    "#4.remove empty strings from the list of strings\n",
    "list1=['mike','','emma','kelly','','brad']"
   ]
  },
  {
   "cell_type": "code",
   "execution_count": 49,
   "id": "a0114775-094b-4ad0-b414-99dea4f13615",
   "metadata": {},
   "outputs": [
    {
     "name": "stdout",
     "output_type": "stream",
     "text": [
      "['mike', 'emma', 'kelly', 'brad']\n"
     ]
    }
   ],
   "source": [
    "list1=['mike','','emma','kelly','','brad']\n",
    "listclean=[x for x in list1 if x]\n",
    "print(listclean)"
   ]
  },
  {
   "cell_type": "raw",
   "id": "6f76320a-677b-4d76-ae40-6c2a02336d63",
   "metadata": {},
   "source": [
    "#5.Program for Area of Triangle:  "
   ]
  },
  {
   "cell_type": "code",
   "execution_count": 50,
   "id": "66ae79ec-39e7-4012-9dc9-3c2754d4fb81",
   "metadata": {},
   "outputs": [
    {
     "name": "stdin",
     "output_type": "stream",
     "text": [
      "Height 4\n",
      "base 3\n"
     ]
    },
    {
     "name": "stdout",
     "output_type": "stream",
     "text": [
      "Area of the triangle is 6.0\n"
     ]
    }
   ],
   "source": [
    "h=float(input(\"Height\"))\n",
    "b=float(input(\"base\"))\n",
    "area_of_triangle=0.5*h*b\n",
    "print(\"Area of the triangle is\",area_of_triangle)"
   ]
  }
 ],
 "metadata": {
  "kernelspec": {
   "display_name": "Python 3 (ipykernel)",
   "language": "python",
   "name": "python3"
  },
  "language_info": {
   "codemirror_mode": {
    "name": "ipython",
    "version": 3
   },
   "file_extension": ".py",
   "mimetype": "text/x-python",
   "name": "python",
   "nbconvert_exporter": "python",
   "pygments_lexer": "ipython3",
   "version": "3.12.7"
  }
 },
 "nbformat": 4,
 "nbformat_minor": 5
}
